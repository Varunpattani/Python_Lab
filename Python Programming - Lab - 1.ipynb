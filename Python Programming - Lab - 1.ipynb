{
 "cells": [
  {
   "cell_type": "markdown",
   "metadata": {},
   "source": [
    "<a href='https://www.darshan.ac.in/'> <img src='https://www.darshan.ac.in/Content/media/DU_Logo.svg' width=\"250\" height=\"10\"/></a>\n",
    "<pre>\n",
    "<center><b><h1>Python Programming - 2301CS404</b></center>\n",
    "<center><b><h1>Lab - 1</b></center>    \n",
    "<pre>"
   ]
  },
  {
   "cell_type": "markdown",
   "metadata": {},
   "source": [
    "### 01) WAP to print “Hello World”"
   ]
  },
  {
   "cell_type": "code",
   "execution_count": 1,
   "metadata": {},
   "outputs": [
    {
     "name": "stdout",
     "output_type": "stream",
     "text": [
      "Hello World\n"
     ]
    }
   ],
   "source": [
    "print(\"Hello World\")\n"
   ]
  },
  {
   "cell_type": "markdown",
   "metadata": {},
   "source": [
    "### 02) WAP to print addition of two numbers with and without using input()."
   ]
  },
  {
   "cell_type": "code",
   "execution_count": 5,
   "metadata": {},
   "outputs": [
    {
     "name": "stdout",
     "output_type": "stream",
     "text": [
      "Addition =  30\n"
     ]
    },
    {
     "name": "stdin",
     "output_type": "stream",
     "text": [
      "Enter number 1 :  5\n",
      "Enter number 2 : 6\n"
     ]
    },
    {
     "name": "stdout",
     "output_type": "stream",
     "text": [
      "Addition =  11\n"
     ]
    }
   ],
   "source": [
    "#without input\n",
    "\n",
    "a = 10\n",
    "b = 20\n",
    "\n",
    "print(\"Addition = \",a+b)\n",
    "\n",
    "#with input\n",
    "\n",
    "c= int(input(\"Enter number 1 : \"))\n",
    "d= int(input(\"Enter number 2 :\"))\n",
    "\n",
    "print(\"Addition = \",c+d)"
   ]
  },
  {
   "cell_type": "markdown",
   "metadata": {},
   "source": [
    "### 03) WAP to check the type of the variable."
   ]
  },
  {
   "cell_type": "code",
   "execution_count": 7,
   "metadata": {},
   "outputs": [
    {
     "name": "stdout",
     "output_type": "stream",
     "text": [
      "<class 'int'>\n",
      "<class 'str'>\n",
      "<class 'float'>\n"
     ]
    }
   ],
   "source": [
    "a = 10\n",
    "b = \"hello\"\n",
    "c = 20.45\n",
    "\n",
    "print(type(a))\n",
    "print(type(b))\n",
    "print(type(c))"
   ]
  },
  {
   "cell_type": "markdown",
   "metadata": {},
   "source": [
    "### 04) WAP to calculate simple interest."
   ]
  },
  {
   "cell_type": "code",
   "execution_count": 9,
   "metadata": {},
   "outputs": [
    {
     "name": "stdin",
     "output_type": "stream",
     "text": [
      "Enter Principle :  5\n",
      "Enter rate :  6\n",
      "Enter time :  7\n"
     ]
    },
    {
     "name": "stdout",
     "output_type": "stream",
     "text": [
      "final amount =  2.1\n"
     ]
    }
   ],
   "source": [
    "P = float(input(\"Enter Principle : \"))\n",
    "r = float(input(\"Enter rate : \"))\n",
    "t = float(input(\"Enter time : \"))\n",
    "\n",
    "ans = (P*t*r)/100\n",
    "print(\"final amount = \",ans)"
   ]
  },
  {
   "cell_type": "markdown",
   "metadata": {},
   "source": [
    "### 05) WAP to calculate area and perimeter of a circle."
   ]
  },
  {
   "cell_type": "code",
   "execution_count": 11,
   "metadata": {},
   "outputs": [
    {
     "name": "stdin",
     "output_type": "stream",
     "text": [
      "Enter radius :  5\n"
     ]
    },
    {
     "name": "stdout",
     "output_type": "stream",
     "text": [
      "Area =  78.5\n",
      "Perimeter =  31.400000000000002\n"
     ]
    }
   ],
   "source": [
    "r = float(input(\"Enter radius : \")) \n",
    "area = 3.14 * r * r\n",
    "print(\"Area = \",area)\n",
    "\n",
    "peri = 2 * 3.14 * r\n",
    "print(\"Perimeter = \",peri)"
   ]
  },
  {
   "cell_type": "markdown",
   "metadata": {},
   "source": [
    "### 06) WAP to calculate area of a triangle."
   ]
  },
  {
   "cell_type": "code",
   "execution_count": 13,
   "metadata": {},
   "outputs": [
    {
     "name": "stdin",
     "output_type": "stream",
     "text": [
      "Enter base of Triangle :  5\n",
      "Enter height of Triangle :  6\n"
     ]
    },
    {
     "name": "stdout",
     "output_type": "stream",
     "text": [
      "Area =  15.0\n"
     ]
    }
   ],
   "source": [
    "b = float(input(\"Enter base of Triangle : \"))\n",
    "h = float(input(\"Enter height of Triangle : \"))\n",
    "\n",
    "area = 1/2 * b * h\n",
    "\n",
    "print(\"Area = \",area)"
   ]
  },
  {
   "cell_type": "markdown",
   "metadata": {},
   "source": [
    "### 07) WAP to compute quotient and remainder."
   ]
  },
  {
   "cell_type": "code",
   "execution_count": 15,
   "metadata": {},
   "outputs": [
    {
     "name": "stdin",
     "output_type": "stream",
     "text": [
      "Enter Dividend :  4\n",
      "Enter Divisor :  2\n"
     ]
    },
    {
     "name": "stdout",
     "output_type": "stream",
     "text": [
      "Quotient =  2.0\n",
      "Remainder =  0.0\n"
     ]
    }
   ],
   "source": [
    "dnd = float(input(\"Enter Dividend : \"))\n",
    "div = float(input(\"Enter Divisor : \"))\n",
    "\n",
    "quo = dnd/div\n",
    "rem = dnd%div\n",
    "\n",
    "print(\"Quotient = \",quo)\n",
    "print(\"Remainder = \",rem)"
   ]
  },
  {
   "cell_type": "markdown",
   "metadata": {},
   "source": [
    "### 08) WAP to convert degree into Fahrenheit and vice versa."
   ]
  },
  {
   "cell_type": "code",
   "execution_count": null,
   "metadata": {},
   "outputs": [],
   "source": [
    "a = int(input(\"Enter 1 for F to c or Enter 2 for c to F\"))\n",
    "if(a == 1):\n",
    "    F = float(input(\"Enter fahrenheit:\"))\n",
    "    c = (f-32)/(5/9)\n",
    "    print(\"Celsius = \",c)\n",
    "else:\n",
    "    c = float(input(\"Enter celsius:\"))\n",
    "    F = c*(9/5)+32\n",
    "    print(\"Fahrenheit = \",F)"
   ]
  },
  {
   "cell_type": "markdown",
   "metadata": {},
   "source": [
    "### 09) WAP to find the distance between two points in 2-D space."
   ]
  },
  {
   "cell_type": "code",
   "execution_count": null,
   "metadata": {},
   "outputs": [],
   "source": [
    "import math\n",
    "x1 = int(input(\"Enter x pos for 1:\"))\n",
    "y1 = int(input(\"Enter y pos for 1:\"))\n",
    "x2 = int(input(\"Enter x pos for 2:\"))\n",
    "y2 = int(input(\"Enter y pos for 2:\"))\n",
    "\n",
    "dis = math.sqrt(math.pow(x2-x1,2) + math.pow(y2-y1,2))\n",
    "print(\"Distance = \",dis)"
   ]
  },
  {
   "cell_type": "markdown",
   "metadata": {},
   "source": [
    "### 10) WAP to print sum of n natural numbers."
   ]
  },
  {
   "cell_type": "code",
   "execution_count": 19,
   "metadata": {},
   "outputs": [
    {
     "name": "stdin",
     "output_type": "stream",
     "text": [
      "Enter a number: 16\n"
     ]
    },
    {
     "name": "stdout",
     "output_type": "stream",
     "text": [
      "Sum =  136\n"
     ]
    }
   ],
   "source": [
    "n = int(input(\"Enter a number:\"))\n",
    "if(n<=0):\n",
    "    print(\"Enter valid number\")\n",
    "\n",
    "else:\n",
    "    sum = 0;\n",
    "    while(n>0):\n",
    "        sum+=n\n",
    "        n-=1\n",
    "    print(\"Sum = \",sum)"
   ]
  },
  {
   "cell_type": "markdown",
   "metadata": {},
   "source": [
    "### 11) WAP to print sum of square of n natural numbers."
   ]
  },
  {
   "cell_type": "code",
   "execution_count": 23,
   "metadata": {},
   "outputs": [
    {
     "name": "stdin",
     "output_type": "stream",
     "text": [
      "Enter a number: 5\n"
     ]
    },
    {
     "name": "stdout",
     "output_type": "stream",
     "text": [
      "Sum =  55\n"
     ]
    }
   ],
   "source": [
    "n = int(input(\"Enter a number:\"))\n",
    "if(n<=0):\n",
    "    print(\"Enter valid number\")\n",
    "\n",
    "else:\n",
    "    sum = 0;\n",
    "    while(n>0):\n",
    "        sum+=n*n\n",
    "        n-=1\n",
    "    print(\"Sum = \",sum)"
   ]
  },
  {
   "cell_type": "markdown",
   "metadata": {},
   "source": [
    "### 12) WAP to concate the first and last name of the student."
   ]
  },
  {
   "cell_type": "code",
   "execution_count": 31,
   "metadata": {},
   "outputs": [
    {
     "name": "stdin",
     "output_type": "stream",
     "text": [
      "Enter first name :  varun\n",
      "Enter last name :  pattani\n"
     ]
    },
    {
     "name": "stdout",
     "output_type": "stream",
     "text": [
      "Full name =  varun pattani\n"
     ]
    }
   ],
   "source": [
    "fname = input(\"Enter first name : \")\n",
    "lname = input(\"Enter last name : \")\n",
    "\n",
    "full_name = fname + \" \" + lname\n",
    "print(\"Full name = \",full_name)"
   ]
  },
  {
   "cell_type": "markdown",
   "metadata": {},
   "source": [
    "### 13) WAP to swap two numbers."
   ]
  },
  {
   "cell_type": "code",
   "execution_count": 25,
   "metadata": {},
   "outputs": [
    {
     "name": "stdin",
     "output_type": "stream",
     "text": [
      "Enter number 1 :  2\n",
      "Enter number 2 :  3\n"
     ]
    },
    {
     "name": "stdout",
     "output_type": "stream",
     "text": [
      "Value of 1 =  3\n",
      "Value of 2 =  2\n"
     ]
    }
   ],
   "source": [
    "a = int(input(\"Enter number 1 : \"))\n",
    "b = int(input(\"Enter number 2 : \"))\n",
    "\n",
    "a,b = b,a\n",
    "print(\"Value of 1 = \",a)\n",
    "print(\"Value of 2 = \",b)\n"
   ]
  },
  {
   "cell_type": "markdown",
   "metadata": {},
   "source": [
    "### 14) WAP to get the distance from user into kilometer, and convert it into meter, feet, inches and centimeter."
   ]
  },
  {
   "cell_type": "code",
   "execution_count": 27,
   "metadata": {},
   "outputs": [
    {
     "name": "stdin",
     "output_type": "stream",
     "text": [
      "Enter distance in kms :  5\n"
     ]
    },
    {
     "name": "stdout",
     "output_type": "stream",
     "text": [
      "Meter =  5000.0\n",
      "Inches =  196850.5\n",
      "Feet =  16404.2\n",
      "Centimeter =  500000.0\n"
     ]
    }
   ],
   "source": [
    "km = float(input(\"Enter distance in kms : \"))\n",
    "m = km*1000\n",
    "feet = km * 3280.84\n",
    "inch = km * 39370.1\n",
    "cm = km * 100000\n",
    "\n",
    "print(\"Meter = \",m)\n",
    "print(\"Inches = \",inch)\n",
    "print(\"Feet = \",feet)\n",
    "print(\"Centimeter = \",cm)\n",
    "\n"
   ]
  },
  {
   "cell_type": "markdown",
   "metadata": {},
   "source": [
    "### 15) WAP to get day, month and year from the user and print the date in the given format: 23-11-2024."
   ]
  },
  {
   "cell_type": "code",
   "execution_count": 29,
   "metadata": {},
   "outputs": [
    {
     "name": "stdin",
     "output_type": "stream",
     "text": [
      "Enter day :  2\n",
      "Enter month :  12\n",
      "Enter year :  2024\n"
     ]
    },
    {
     "name": "stdout",
     "output_type": "stream",
     "text": [
      "2-12-2024\n"
     ]
    }
   ],
   "source": [
    "d = int(input(\"Enter day : \"))\n",
    "m = int(input(\"Enter month : \"))\n",
    "y = int(input(\"Enter year : \"))\n",
    "\n",
    "print(d,m,y,sep='-')"
   ]
  },
  {
   "cell_type": "code",
   "execution_count": null,
   "metadata": {},
   "outputs": [],
   "source": []
  }
 ],
 "metadata": {
  "kernelspec": {
   "display_name": "Python 3 (ipykernel)",
   "language": "python",
   "name": "python3"
  },
  "language_info": {
   "codemirror_mode": {
    "name": "ipython",
    "version": 3
   },
   "file_extension": ".py",
   "mimetype": "text/x-python",
   "name": "python",
   "nbconvert_exporter": "python",
   "pygments_lexer": "ipython3",
   "version": "3.12.7"
  },
  "vscode": {
   "interpreter": {
    "hash": "31f2aee4e71d21fbe5cf8b01ff0e069b9275f58929596ceb00d14d90e3e16cd6"
   }
  }
 },
 "nbformat": 4,
 "nbformat_minor": 4
}
