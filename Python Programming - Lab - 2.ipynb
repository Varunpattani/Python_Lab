{
 "cells": [
  {
   "cell_type": "markdown",
   "metadata": {},
   "source": [
    "\n",
    "<a href='https://www.darshan.ac.in/'> <img src='https://www.darshan.ac.in/Content/media/DU_Logo.svg' width=\"250\" height=\"300\"/></a>\n",
    "<pre>\n",
    "<center><b><h1>Python Programming - 2301CS404</b></center>\n",
    "<center><b><h1>Lab - 2 </b></center>\n",
    "<center><b><h1> 23010101425 | Varun Pattani | 3-12-2024</b></center>     \n",
    "<pre>"
   ]
  },
  {
   "cell_type": "markdown",
   "metadata": {},
   "source": [
    "# if..else.."
   ]
  },
  {
   "cell_type": "markdown",
   "metadata": {},
   "source": [
    "### 01) WAP to check whether the given number is positive or negative."
   ]
  },
  {
   "cell_type": "code",
   "execution_count": 9,
   "metadata": {},
   "outputs": [
    {
     "name": "stdin",
     "output_type": "stream",
     "text": [
      "Enter a number :  -6.3\n"
     ]
    },
    {
     "name": "stdout",
     "output_type": "stream",
     "text": [
      "Negative Number\n"
     ]
    }
   ],
   "source": [
    "n = float(input(\"Enter a number : \"))\n",
    "\n",
    "if n>0:\n",
    "    print(\"Positive Number\")\n",
    "\n",
    "elif n == 0:\n",
    "    print(\"Zero\")\n",
    "else:\n",
    "    print(\"Negative Number\")\n",
    "          \n"
   ]
  },
  {
   "cell_type": "markdown",
   "metadata": {},
   "source": [
    "### 02) WAP to check whether the given number is odd or even."
   ]
  },
  {
   "cell_type": "code",
   "execution_count": 14,
   "metadata": {},
   "outputs": [
    {
     "name": "stdin",
     "output_type": "stream",
     "text": [
      "Enter a number :  4\n"
     ]
    },
    {
     "name": "stdout",
     "output_type": "stream",
     "text": [
      "Even Number\n"
     ]
    }
   ],
   "source": [
    "n = int(input(\"Enter a number : \"))\n",
    "if n%2==0:\n",
    "    print(\"Even Number\")\n",
    "\n",
    "elif n == 0:\n",
    "    print(\"Zero\")\n",
    "\n",
    "else:\n",
    "    print(\"Odd Number\")\n"
   ]
  },
  {
   "cell_type": "markdown",
   "metadata": {},
   "source": [
    "### 03) WAP to find out largest number from given two numbers using simple if and ternary operator."
   ]
  },
  {
   "cell_type": "code",
   "execution_count": 23,
   "metadata": {},
   "outputs": [
    {
     "name": "stdin",
     "output_type": "stream",
     "text": [
      "Enter number 1 :  5\n",
      "Enter number 2 :  6\n"
     ]
    },
    {
     "name": "stdout",
     "output_type": "stream",
     "text": [
      "if-else :  6 is largest\n",
      "ternary: 6 is largest\n"
     ]
    }
   ],
   "source": [
    "a = int(input(\"Enter number 1 : \"))\n",
    "b = int(input(\"Enter number 2 : \"))\n",
    "\n",
    "#if-else\n",
    "if(a>b):\n",
    "    print(f'if-else :  {a} is largest')\n",
    "else : \n",
    "    print(f\"if-else :  {b} is largest\")\n",
    "\n",
    "#ternary op\n",
    "ans = print(f\"ternary: {a} is largest\") if a>b else print(f\"ternary: {b} is largest\")  \n",
    "\n"
   ]
  },
  {
   "cell_type": "markdown",
   "metadata": {},
   "source": [
    "### 04) WAP to find out largest number from given three numbers."
   ]
  },
  {
   "cell_type": "code",
   "execution_count": 29,
   "metadata": {},
   "outputs": [
    {
     "name": "stdin",
     "output_type": "stream",
     "text": [
      "Enter number 1 :  3\n",
      "Enter number 2 :  2\n",
      "Enter number 3 :  1\n"
     ]
    },
    {
     "name": "stdout",
     "output_type": "stream",
     "text": [
      "3 is largest\n"
     ]
    }
   ],
   "source": [
    "a = int(input(\"Enter number 1 : \"))\n",
    "b = int(input(\"Enter number 2 : \"))\n",
    "c = int(input(\"Enter number 3 : \"))\n",
    "\n",
    "if(a>b):\n",
    "    if(a>c):\n",
    "        print(f\"{a} is largest\")\n",
    "\n",
    "    else:\n",
    "        print(f\"{c} is largest\")\n",
    "else:\n",
    "    if(b>c):\n",
    "        print(f\"{b} is largest\")\n",
    "\n",
    "    else:\n",
    "        print(f\"{c} is largest\")"
   ]
  },
  {
   "cell_type": "markdown",
   "metadata": {},
   "source": [
    "### 05) WAP to check whether the given year is leap year or not.\n",
    "[If a year can be divisible by 4 but not divisible by 100 then it is leap year but if it is divisible by 400 then it is leap year]"
   ]
  },
  {
   "cell_type": "code",
   "execution_count": 39,
   "metadata": {},
   "outputs": [
    {
     "name": "stdin",
     "output_type": "stream",
     "text": [
      "Enter year :  2007\n"
     ]
    },
    {
     "name": "stdout",
     "output_type": "stream",
     "text": [
      "Not Leap year\n"
     ]
    }
   ],
   "source": [
    "y = int(input(\"Enter year : \"))\n",
    "if y%4 == 0 and y%100 != 0 :\n",
    "    print(\"Leap year\")\n",
    "elif y%400 == 0 :\n",
    "        print(\"Leap year\")\n",
    "else:\n",
    "    print(\"Not Leap year\")\n"
   ]
  },
  {
   "cell_type": "markdown",
   "metadata": {},
   "source": [
    "### 06) WAP in python to display the name of the day according to the number given by the user."
   ]
  },
  {
   "cell_type": "code",
   "execution_count": 45,
   "metadata": {},
   "outputs": [
    {
     "name": "stdin",
     "output_type": "stream",
     "text": [
      "Enter number: 9\n"
     ]
    },
    {
     "name": "stdout",
     "output_type": "stream",
     "text": [
      "Enter valid number\n"
     ]
    }
   ],
   "source": [
    "n = int(input(\"Enter number:\"))\n",
    "match n:\n",
    "    case 1:\n",
    "        print(\"Monday\")\n",
    "    case 2:\n",
    "        print(\"Tuesday\")\n",
    "    case 3:\n",
    "        print(\"Wednesday\")\n",
    "    case 4:\n",
    "        print(\"Thursday\")\n",
    "    case 5:\n",
    "        print(\"Friday\")\n",
    "    case 6:\n",
    "        print(\"Saturday\")\n",
    "    case 7:\n",
    "        print(\"Sunday\")\n",
    "    case _:\n",
    "        print(\"Enter valid number\")\n",
    "    "
   ]
  },
  {
   "cell_type": "markdown",
   "metadata": {},
   "source": [
    "### 07) WAP to implement simple calculator which performs (add,sub,mul,div) of two no. based on user input."
   ]
  },
  {
   "cell_type": "code",
   "execution_count": 61,
   "metadata": {},
   "outputs": [
    {
     "name": "stdin",
     "output_type": "stream",
     "text": [
      "Enter number 1 : 2\n",
      "Enter number 2 : 3\n",
      "Enter op from (+,-,*,/) :  *\n"
     ]
    },
    {
     "name": "stdout",
     "output_type": "stream",
     "text": [
      "Mul =  6.0\n"
     ]
    }
   ],
   "source": [
    "a = float(input(\"Enter number 1 :\"))\n",
    "b = float(input(\"Enter number 2 :\"))\n",
    "op = input(\"Enter op from (+,-,*,/) : \") \n",
    "\n",
    "if(op == '+'):\n",
    "    print(\"Sum = \",a+b)\n",
    "elif(op == '-'):\n",
    "    print(\"Sub = \",a-b)\n",
    "elif(op == '/'):\n",
    "     print(\"Div = \",a/b)\n",
    "else:\n",
    "    print(\"Mul = \",a*b)"
   ]
  },
  {
   "cell_type": "markdown",
   "metadata": {},
   "source": [
    "### 08) WAP to read marks of five subjects. Calculate percentage and print class accordingly. \n",
    "Fail below 35 </br>\n",
    "Pass Class between 35 to 45 </br>\n",
    "Second Class</br>\n",
    "between 45 to 60</br>\n",
    "First Class between 60 to 70</br> \n",
    "Distinction if more than 70"
   ]
  },
  {
   "cell_type": "code",
   "execution_count": 67,
   "metadata": {},
   "outputs": [
    {
     "name": "stdin",
     "output_type": "stream",
     "text": [
      "Enter Marks for 1 :  56\n",
      "Enter Marks for 2 :  65\n",
      "Enter Marks for 3 :  89\n",
      "Enter Marks for 4 :  71\n",
      "Enter Marks for 5 :  56\n"
     ]
    },
    {
     "name": "stdout",
     "output_type": "stream",
     "text": [
      "First class\n"
     ]
    }
   ],
   "source": [
    "s1 = float(input(\"Enter Marks for 1 : \"))\n",
    "s2 = float(input(\"Enter Marks for 2 : \"))\n",
    "s3 = float(input(\"Enter Marks for 3 : \"))\n",
    "s4 = float(input(\"Enter Marks for 4 : \"))\n",
    "s5 = float(input(\"Enter Marks for 5 : \"))\n",
    "\n",
    "per = (s1+s2+s3+s4+s5)/5\n",
    "\n",
    "if per<35 :\n",
    "    print(\"Fail\")\n",
    "elif per>=35 and per<45 :\n",
    "    print(\"Pass\")\n",
    "elif per>=45 and per<60 :\n",
    "    print(\"Second class\")\n",
    "elif per>=60 and per<70 :\n",
    "    print(\"First class\")\n",
    "else :\n",
    "    print(\"Distinction\")\n"
   ]
  },
  {
   "cell_type": "markdown",
   "metadata": {},
   "source": [
    "### 09) Three sides of a triangle are entered through the keyboard, WAP to check whether the triangle is isosceles, equilateral, scalene or right-angled triangle."
   ]
  },
  {
   "cell_type": "code",
   "execution_count": 91,
   "metadata": {},
   "outputs": [
    {
     "name": "stdin",
     "output_type": "stream",
     "text": [
      "Enter side 1 :  10\n",
      "Enter side 2 :  10\n",
      "Enter side 3 :  20\n"
     ]
    },
    {
     "name": "stdout",
     "output_type": "stream",
     "text": [
      "Given triangle doesn't form a triangle\n"
     ]
    }
   ],
   "source": [
    "s1 = float(input(\"Enter side 1 : \"))\n",
    "s2 = float(input(\"Enter side 2 : \"))\n",
    "s3 = float(input(\"Enter side 3 : \"))\n",
    "\n",
    "if a+b>c and a+c>b and b+c>a:\n",
    "    if s1 == s2 == s3:\n",
    "        print(\"Equilateral Triangle\")\n",
    "    elif(s1 == s2) or (s2 == s3) or (s1 == s3):\n",
    "        print(\"Isoceles Triangle\")\n",
    "    elif (s1**2 + s2**2 == s3**2) or (s3**2 + s2**2 == s1**2) or (s1**2 + s3**2 == s2**2) :\n",
    "        print(\"Right angle triangle\")\n",
    "    else:\n",
    "        print(\"Scalene Triangle\")\n",
    "else:\n",
    "    print(\"Given triangle doesn't form a triangle\")\n"
   ]
  },
  {
   "cell_type": "code",
   "execution_count": null,
   "metadata": {},
   "outputs": [],
   "source": []
  },
  {
   "cell_type": "markdown",
   "metadata": {},
   "source": [
    "### 10) WAP to find the second largest number among three user input numbers."
   ]
  },
  {
   "cell_type": "code",
   "execution_count": 99,
   "metadata": {},
   "outputs": [
    {
     "name": "stdin",
     "output_type": "stream",
     "text": [
      "Enter number 1 :  1\n",
      "Enter number 2 :  2\n",
      "Enter number 3 :  3\n"
     ]
    },
    {
     "name": "stdout",
     "output_type": "stream",
     "text": [
      "2 is second largest\n"
     ]
    }
   ],
   "source": [
    "a = int(input(\"Enter number 1 : \"))\n",
    "b = int(input(\"Enter number 2 : \"))\n",
    "c = int(input(\"Enter number 3 : \"))\n",
    "\n",
    "if(a>b):\n",
    "    if(a<c):\n",
    "        print(f\"{a} is second largest\")\n",
    "\n",
    "    else:\n",
    "        print(f\"{c} is second largest\")\n",
    "else:\n",
    "    if(b<c):\n",
    "        print(f\"{b} is second largest\")\n",
    "\n",
    "    else:\n",
    "        print(f\"{c} is second largest\")"
   ]
  },
  {
   "cell_type": "markdown",
   "metadata": {},
   "source": [
    "### 11) WAP to calculate electricity bill based on following criteria. Which takes the unit from the user.\n",
    "a. First 1 to 50 units – Rs. 2.60/unit</br>\n",
    "b. Next 50 to 100 units – Rs. 3.25/unit</br>\n",
    "c. Next 100 to 200 units – Rs. 5.26/unit</br>\n",
    "d. above 200 units – Rs. 8.45/unit"
   ]
  },
  {
   "cell_type": "code",
   "execution_count": 101,
   "metadata": {},
   "outputs": [
    {
     "name": "stdin",
     "output_type": "stream",
     "text": [
      "Enter units :  70\n"
     ]
    },
    {
     "name": "stdout",
     "output_type": "stream",
     "text": [
      "Bill =  195.0\n"
     ]
    }
   ],
   "source": [
    "u = float(input(\"Enter units : \"))\n",
    "if u>=1 and u<=50 :\n",
    "    print(\"Bill = \",u*2.60)\n",
    "elif u>=51 and u<=100 :\n",
    "    print(\"Bill = \",(50*2.60)+(u-50)*3.25)\n",
    "elif u>=101 and u<=200 :\n",
    "    print(\"Bill = \",(50*2.60)+(50*3.25)+(u-100)*5.26)\n",
    "else:\n",
    "    print(\"Bill = \",(50*2.60)+(50*3.25)+(100*5.26)+(u-200)*8.45)"
   ]
  },
  {
   "cell_type": "code",
   "execution_count": null,
   "metadata": {},
   "outputs": [],
   "source": []
  }
 ],
 "metadata": {
  "kernelspec": {
   "display_name": "Python 3 (ipykernel)",
   "language": "python",
   "name": "python3"
  },
  "language_info": {
   "codemirror_mode": {
    "name": "ipython",
    "version": 3
   },
   "file_extension": ".py",
   "mimetype": "text/x-python",
   "name": "python",
   "nbconvert_exporter": "python",
   "pygments_lexer": "ipython3",
   "version": "3.12.7"
  }
 },
 "nbformat": 4,
 "nbformat_minor": 4
}
